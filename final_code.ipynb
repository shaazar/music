{
  "nbformat": 4,
  "nbformat_minor": 0,
  "metadata": {
    "colab": {
      "name": "final code.ipynb",
      "version": "0.3.2",
      "provenance": [],
      "collapsed_sections": [],
      "include_colab_link": true
    },
    "kernelspec": {
      "name": "python3",
      "display_name": "Python 3"
    },
    "accelerator": "GPU"
  },
  "cells": [
    {
      "cell_type": "markdown",
      "metadata": {
        "id": "view-in-github",
        "colab_type": "text"
      },
      "source": [
        "<a href=\"https://colab.research.google.com/github/shaazar/music/blob/master/final_code.ipynb\" target=\"_parent\"><img src=\"https://colab.research.google.com/assets/colab-badge.svg\" alt=\"Open In Colab\"/></a>"
      ]
    },
    {
      "metadata": {
        "id": "w5f0eYZ29LV4",
        "colab_type": "code",
        "outputId": "ef490ab1-18ee-4e94-868b-60292a3c7f1b",
        "colab": {
          "base_uri": "https://localhost:8080/",
          "height": 52
        }
      },
      "cell_type": "code",
      "source": [
        "#@title 0-1 (repeat)\n",
        "from IPython.display import clear_output\n",
        "\n",
        "!pip install kaggle\n",
        "!mkdir .kaggle\n",
        "!touch .kaggle/kaggle.json\n",
        "api_token = {\"username\":\"sharezazadehazar\",\"key\":\"25d7844f01d4a502c70242d44fda79fe\"}\n",
        "import json\n",
        "import zipfile\n",
        "import os\n",
        "clear_output()\n",
        "!chmod 600 /root/.kaggle/kaggle.json\n",
        "!chmod 600 .kaggle/kaggle.json\n",
        "!chmod 600 /root/.kaggle/kaggle.json\n",
        "\n",
        "# with open('/root/.kaggle/kaggle.json', 'w') as file:\n",
        "#     json.dump(api_token, file)\n",
        "\n",
        "with open('/content/.kaggle/kaggle.json', 'w') as file:\n",
        "    json.dump(api_token, file)\n",
        "    \n",
        "with open('/root/.kaggle/kaggle.json', 'w') as file:\n",
        "    json.dump(api_token, file)\n",
        "    \n",
        "!chmod 600 /root/.kaggle/kaggle.json\n",
        "!chmod 600 .kaggle/kaggle.json\n",
        "!chmod 600 /root/.kaggle/kaggle.json"
      ],
      "execution_count": 0,
      "outputs": [
        {
          "output_type": "stream",
          "text": [
            "chmod: cannot access '/root/.kaggle/kaggle.json': No such file or directory\n",
            "chmod: cannot access '/root/.kaggle/kaggle.json': No such file or directory\n"
          ],
          "name": "stdout"
        }
      ]
    },
    {
      "metadata": {
        "id": "9clkxIg8-DCj",
        "colab_type": "code",
        "outputId": "fecfa627-b65e-4a07-cc00-6ad3bb9b9338",
        "colab": {
          "base_uri": "https://localhost:8080/",
          "height": 35
        }
      },
      "cell_type": "code",
      "source": [
        "#@title 0-2 (repeat)\n",
        "!kaggle datasets download -d sabermalek/iranian-traditional-music"
      ],
      "execution_count": 0,
      "outputs": [
        {
          "output_type": "stream",
          "text": [
            "iranian-traditional-music.zip: Skipping, found more recently modified local copy (use --force to force download)\n"
          ],
          "name": "stdout"
        }
      ]
    },
    {
      "metadata": {
        "id": "2TMUOPiFA4kX",
        "colab_type": "code",
        "outputId": "e85d7031-bf99-4360-8a89-004247b4779b",
        "colab": {
          "base_uri": "https://localhost:8080/",
          "height": 156
        }
      },
      "cell_type": "code",
      "source": [
        "!stat iranian-traditional-music.zip\n"
      ],
      "execution_count": 0,
      "outputs": [
        {
          "output_type": "stream",
          "text": [
            "  File: iranian-traditional-music.zip\n",
            "  Size: 17574621516\tBlocks: 34325448   IO Block: 4096   regular file\n",
            "Device: 2eh/46d\tInode: 10618243    Links: 1\n",
            "Access: (0644/-rw-r--r--)  Uid: (    0/    root)   Gid: (    0/    root)\n",
            "Access: 2019-01-09 19:09:54.664384238 +0000\n",
            "Modify: 2019-01-09 19:13:59.344512723 +0000\n",
            "Change: 2019-01-09 19:13:59.344512723 +0000\n",
            " Birth: -\n"
          ],
          "name": "stdout"
        }
      ]
    },
    {
      "metadata": {
        "id": "E8Zp5FSu-RV5",
        "colab_type": "code",
        "outputId": "c0627032-213b-45a6-c3f5-522dd149ed03",
        "colab": {
          "base_uri": "https://localhost:8080/",
          "height": 3969
        }
      },
      "cell_type": "code",
      "source": [
        "#@title 0-3\n",
        "import zipfile\n",
        "zip_ref = zipfile.ZipFile('iranian-traditional-music.zip', 'r')\n",
        "zip_ref.extractall('zipextract')\n",
        "zip_ref.close()\n",
        "!ls zipextract/Data/Music/SoundSamples"
      ],
      "execution_count": 0,
      "outputs": [
        {
          "output_type": "stream",
          "text": [
            "000001.mp3.wav\t000229.mp3.wav\t000457.mp3.wav\t000685.mp3.wav\t000913.mp3.wav\n",
            "000002.mp3.wav\t000230.mp3.wav\t000458.mp3.wav\t000686.mp3.wav\t000914.mp3.wav\n",
            "000003.mp3.wav\t000231.mp3.wav\t000459.mp3.wav\t000687.mp3.wav\t000915.mp3.wav\n",
            "000004.mp3.wav\t000232.mp3.wav\t000460.mp3.wav\t000688.mp3.wav\t000916.mp3.wav\n",
            "000005.mp3.wav\t000233.mp3.wav\t000461.mp3.wav\t000689.mp3.wav\t000917.mp3.wav\n",
            "000006.mp3.wav\t000234.mp3.wav\t000462.mp3.wav\t000690.mp3.wav\t000918.mp3.wav\n",
            "000007.mp3.wav\t000235.mp3.wav\t000463.mp3.wav\t000691.mp3.wav\t000919.mp3.wav\n",
            "000008.mp3.wav\t000236.mp3.wav\t000464.mp3.wav\t000692.mp3.wav\t000920.mp3.wav\n",
            "000009.mp3.wav\t000237.mp3.wav\t000465.mp3.wav\t000693.mp3.wav\t000921.mp3.wav\n",
            "000010.mp3.wav\t000238.mp3.wav\t000466.mp3.wav\t000694.mp3.wav\t000922.mp3.wav\n",
            "000011.mp3.wav\t000239.mp3.wav\t000467.mp3.wav\t000695.mp3.wav\t000923.mp3.wav\n",
            "000012.mp3.wav\t000240.mp3.wav\t000468.mp3.wav\t000696.mp3.wav\t000924.mp3.wav\n",
            "000013.mp3.wav\t000241.mp3.wav\t000469.mp3.wav\t000697.mp3.wav\t000925.mp3.wav\n",
            "000014.mp3.wav\t000242.mp3.wav\t000470.mp3.wav\t000698.mp3.wav\t000926.mp3.wav\n",
            "000015.mp3.wav\t000243.mp3.wav\t000471.mp3.wav\t000699.mp3.wav\t000927.mp3.wav\n",
            "000016.mp3.wav\t000244.mp3.wav\t000472.mp3.wav\t000700.mp3.wav\t000928.mp3.wav\n",
            "000017.mp3.wav\t000245.mp3.wav\t000473.mp3.wav\t000701.mp3.wav\t000929.mp3.wav\n",
            "000018.mp3.wav\t000246.mp3.wav\t000474.mp3.wav\t000702.mp3.wav\t000930.mp3.wav\n",
            "000019.mp3.wav\t000247.mp3.wav\t000475.mp3.wav\t000703.mp3.wav\t000931.mp3.wav\n",
            "000020.mp3.wav\t000248.mp3.wav\t000476.mp3.wav\t000704.mp3.wav\t000932.mp3.wav\n",
            "000021.mp3.wav\t000249.mp3.wav\t000477.mp3.wav\t000705.mp3.wav\t000933.mp3.wav\n",
            "000022.mp3.wav\t000250.mp3.wav\t000478.mp3.wav\t000706.mp3.wav\t000934.mp3.wav\n",
            "000023.mp3.wav\t000251.mp3.wav\t000479.mp3.wav\t000707.mp3.wav\t000935.mp3.wav\n",
            "000024.mp3.wav\t000252.mp3.wav\t000480.mp3.wav\t000708.mp3.wav\t000936.mp3.wav\n",
            "000025.mp3.wav\t000253.mp3.wav\t000481.mp3.wav\t000709.mp3.wav\t000937.mp3.wav\n",
            "000026.mp3.wav\t000254.mp3.wav\t000482.mp3.wav\t000710.mp3.wav\t000938.mp3.wav\n",
            "000027.mp3.wav\t000255.mp3.wav\t000483.mp3.wav\t000711.mp3.wav\t000939.mp3.wav\n",
            "000028.mp3.wav\t000256.mp3.wav\t000484.mp3.wav\t000712.mp3.wav\t000940.mp3.wav\n",
            "000029.mp3.wav\t000257.mp3.wav\t000485.mp3.wav\t000713.mp3.wav\t000941.mp3.wav\n",
            "000030.mp3.wav\t000258.mp3.wav\t000486.mp3.wav\t000714.mp3.wav\t000942.mp3.wav\n",
            "000031.mp3.wav\t000259.mp3.wav\t000487.mp3.wav\t000715.mp3.wav\t000943.mp3.wav\n",
            "000032.mp3.wav\t000260.mp3.wav\t000488.mp3.wav\t000716.mp3.wav\t000944.mp3.wav\n",
            "000033.mp3.wav\t000261.mp3.wav\t000489.mp3.wav\t000717.mp3.wav\t000945.mp3.wav\n",
            "000034.mp3.wav\t000262.mp3.wav\t000490.mp3.wav\t000718.mp3.wav\t000946.mp3.wav\n",
            "000035.mp3.wav\t000263.mp3.wav\t000491.mp3.wav\t000719.mp3.wav\t000947.mp3.wav\n",
            "000036.mp3.wav\t000264.mp3.wav\t000492.mp3.wav\t000720.mp3.wav\t000948.mp3.wav\n",
            "000037.mp3.wav\t000265.mp3.wav\t000493.mp3.wav\t000721.mp3.wav\t000949.mp3.wav\n",
            "000038.mp3.wav\t000266.mp3.wav\t000494.mp3.wav\t000722.mp3.wav\t000950.mp3.wav\n",
            "000039.mp3.wav\t000267.mp3.wav\t000495.mp3.wav\t000723.mp3.wav\t000951.mp3.wav\n",
            "000040.mp3.wav\t000268.mp3.wav\t000496.mp3.wav\t000724.mp3.wav\t000952.mp3.wav\n",
            "000041.mp3.wav\t000269.mp3.wav\t000497.mp3.wav\t000725.mp3.wav\t000953.mp3.wav\n",
            "000042.mp3.wav\t000270.mp3.wav\t000498.mp3.wav\t000726.mp3.wav\t000954.mp3.wav\n",
            "000043.mp3.wav\t000271.mp3.wav\t000499.mp3.wav\t000727.mp3.wav\t000955.mp3.wav\n",
            "000044.mp3.wav\t000272.mp3.wav\t000500.mp3.wav\t000728.mp3.wav\t000956.mp3.wav\n",
            "000045.mp3.wav\t000273.mp3.wav\t000501.mp3.wav\t000729.mp3.wav\t000957.mp3.wav\n",
            "000046.mp3.wav\t000274.mp3.wav\t000502.mp3.wav\t000730.mp3.wav\t000958.mp3.wav\n",
            "000047.mp3.wav\t000275.mp3.wav\t000503.mp3.wav\t000731.mp3.wav\t000959.mp3.wav\n",
            "000048.mp3.wav\t000276.mp3.wav\t000504.mp3.wav\t000732.mp3.wav\t000960.mp3.wav\n",
            "000049.mp3.wav\t000277.mp3.wav\t000505.mp3.wav\t000733.mp3.wav\t000961.mp3.wav\n",
            "000050.mp3.wav\t000278.mp3.wav\t000506.mp3.wav\t000734.mp3.wav\t000962.mp3.wav\n",
            "000051.mp3.wav\t000279.mp3.wav\t000507.mp3.wav\t000735.mp3.wav\t000963.mp3.wav\n",
            "000052.mp3.wav\t000280.mp3.wav\t000508.mp3.wav\t000736.mp3.wav\t000964.mp3.wav\n",
            "000053.mp3.wav\t000281.mp3.wav\t000509.mp3.wav\t000737.mp3.wav\t000965.mp3.wav\n",
            "000054.mp3.wav\t000282.mp3.wav\t000510.mp3.wav\t000738.mp3.wav\t000966.mp3.wav\n",
            "000055.mp3.wav\t000283.mp3.wav\t000511.mp3.wav\t000739.mp3.wav\t000967.mp3.wav\n",
            "000056.mp3.wav\t000284.mp3.wav\t000512.mp3.wav\t000740.mp3.wav\t000968.mp3.wav\n",
            "000057.mp3.wav\t000285.mp3.wav\t000513.mp3.wav\t000741.mp3.wav\t000969.mp3.wav\n",
            "000058.mp3.wav\t000286.mp3.wav\t000514.mp3.wav\t000742.mp3.wav\t000970.mp3.wav\n",
            "000059.mp3.wav\t000287.mp3.wav\t000515.mp3.wav\t000743.mp3.wav\t000971.mp3.wav\n",
            "000060.mp3.wav\t000288.mp3.wav\t000516.mp3.wav\t000744.mp3.wav\t000972.mp3.wav\n",
            "000061.mp3.wav\t000289.mp3.wav\t000517.mp3.wav\t000745.mp3.wav\t000973.mp3.wav\n",
            "000062.mp3.wav\t000290.mp3.wav\t000518.mp3.wav\t000746.mp3.wav\t000974.mp3.wav\n",
            "000063.mp3.wav\t000291.mp3.wav\t000519.mp3.wav\t000747.mp3.wav\t000975.mp3.wav\n",
            "000064.mp3.wav\t000292.mp3.wav\t000520.mp3.wav\t000748.mp3.wav\t000976.mp3.wav\n",
            "000065.mp3.wav\t000293.mp3.wav\t000521.mp3.wav\t000749.mp3.wav\t000977.mp3.wav\n",
            "000066.mp3.wav\t000294.mp3.wav\t000522.mp3.wav\t000750.mp3.wav\t000978.mp3.wav\n",
            "000067.mp3.wav\t000295.mp3.wav\t000523.mp3.wav\t000751.mp3.wav\t000979.mp3.wav\n",
            "000068.mp3.wav\t000296.mp3.wav\t000524.mp3.wav\t000752.mp3.wav\t000980.mp3.wav\n",
            "000069.mp3.wav\t000297.mp3.wav\t000525.mp3.wav\t000753.mp3.wav\t000981.mp3.wav\n",
            "000070.mp3.wav\t000298.mp3.wav\t000526.mp3.wav\t000754.mp3.wav\t000982.mp3.wav\n",
            "000071.mp3.wav\t000299.mp3.wav\t000527.mp3.wav\t000755.mp3.wav\t000983.mp3.wav\n",
            "000072.mp3.wav\t000300.mp3.wav\t000528.mp3.wav\t000756.mp3.wav\t000984.mp3.wav\n",
            "000073.mp3.wav\t000301.mp3.wav\t000529.mp3.wav\t000757.mp3.wav\t000985.mp3.wav\n",
            "000074.mp3.wav\t000302.mp3.wav\t000530.mp3.wav\t000758.mp3.wav\t000986.mp3.wav\n",
            "000075.mp3.wav\t000303.mp3.wav\t000531.mp3.wav\t000759.mp3.wav\t000987.mp3.wav\n",
            "000076.mp3.wav\t000304.mp3.wav\t000532.mp3.wav\t000760.mp3.wav\t000988.mp3.wav\n",
            "000077.mp3.wav\t000305.mp3.wav\t000533.mp3.wav\t000761.mp3.wav\t000989.mp3.wav\n",
            "000078.mp3.wav\t000306.mp3.wav\t000534.mp3.wav\t000762.mp3.wav\t000990.mp3.wav\n",
            "000079.mp3.wav\t000307.mp3.wav\t000535.mp3.wav\t000763.mp3.wav\t000991.mp3.wav\n",
            "000080.mp3.wav\t000308.mp3.wav\t000536.mp3.wav\t000764.mp3.wav\t000992.mp3.wav\n",
            "000081.mp3.wav\t000309.mp3.wav\t000537.mp3.wav\t000765.mp3.wav\t000993.mp3.wav\n",
            "000082.mp3.wav\t000310.mp3.wav\t000538.mp3.wav\t000766.mp3.wav\t000994.mp3.wav\n",
            "000083.mp3.wav\t000311.mp3.wav\t000539.mp3.wav\t000767.mp3.wav\t000995.mp3.wav\n",
            "000084.mp3.wav\t000312.mp3.wav\t000540.mp3.wav\t000768.mp3.wav\t000996.mp3.wav\n",
            "000085.mp3.wav\t000313.mp3.wav\t000541.mp3.wav\t000769.mp3.wav\t000997.mp3.wav\n",
            "000086.mp3.wav\t000314.mp3.wav\t000542.mp3.wav\t000770.mp3.wav\t000998.mp3.wav\n",
            "000087.mp3.wav\t000315.mp3.wav\t000543.mp3.wav\t000771.mp3.wav\t000999.mp3.wav\n",
            "000088.mp3.wav\t000316.mp3.wav\t000544.mp3.wav\t000772.mp3.wav\t001000.mp3.wav\n",
            "000089.mp3.wav\t000317.mp3.wav\t000545.mp3.wav\t000773.mp3.wav\t001001.mp3.wav\n",
            "000090.mp3.wav\t000318.mp3.wav\t000546.mp3.wav\t000774.mp3.wav\t001002.mp3.wav\n",
            "000091.mp3.wav\t000319.mp3.wav\t000547.mp3.wav\t000775.mp3.wav\t001003.mp3.wav\n",
            "000092.mp3.wav\t000320.mp3.wav\t000548.mp3.wav\t000776.mp3.wav\t001004.mp3.wav\n",
            "000093.mp3.wav\t000321.mp3.wav\t000549.mp3.wav\t000777.mp3.wav\t001005.mp3.wav\n",
            "000094.mp3.wav\t000322.mp3.wav\t000550.mp3.wav\t000778.mp3.wav\t001006.mp3.wav\n",
            "000095.mp3.wav\t000323.mp3.wav\t000551.mp3.wav\t000779.mp3.wav\t001007.mp3.wav\n",
            "000096.mp3.wav\t000324.mp3.wav\t000552.mp3.wav\t000780.mp3.wav\t001008.mp3.wav\n",
            "000097.mp3.wav\t000325.mp3.wav\t000553.mp3.wav\t000781.mp3.wav\t001009.mp3.wav\n",
            "000098.mp3.wav\t000326.mp3.wav\t000554.mp3.wav\t000782.mp3.wav\t001010.mp3.wav\n",
            "000099.mp3.wav\t000327.mp3.wav\t000555.mp3.wav\t000783.mp3.wav\t001011.mp3.wav\n",
            "000100.mp3.wav\t000328.mp3.wav\t000556.mp3.wav\t000784.mp3.wav\t001012.mp3.wav\n",
            "000101.mp3.wav\t000329.mp3.wav\t000557.mp3.wav\t000785.mp3.wav\t001013.mp3.wav\n",
            "000102.mp3.wav\t000330.mp3.wav\t000558.mp3.wav\t000786.mp3.wav\t001014.mp3.wav\n",
            "000103.mp3.wav\t000331.mp3.wav\t000559.mp3.wav\t000787.mp3.wav\t001015.mp3.wav\n",
            "000104.mp3.wav\t000332.mp3.wav\t000560.mp3.wav\t000788.mp3.wav\t001016.mp3.wav\n",
            "000105.mp3.wav\t000333.mp3.wav\t000561.mp3.wav\t000789.mp3.wav\t001017.mp3.wav\n",
            "000106.mp3.wav\t000334.mp3.wav\t000562.mp3.wav\t000790.mp3.wav\t001018.mp3.wav\n",
            "000107.mp3.wav\t000335.mp3.wav\t000563.mp3.wav\t000791.mp3.wav\t001019.mp3.wav\n",
            "000108.mp3.wav\t000336.mp3.wav\t000564.mp3.wav\t000792.mp3.wav\t001020.mp3.wav\n",
            "000109.mp3.wav\t000337.mp3.wav\t000565.mp3.wav\t000793.mp3.wav\t001021.mp3.wav\n",
            "000110.mp3.wav\t000338.mp3.wav\t000566.mp3.wav\t000794.mp3.wav\t001022.mp3.wav\n",
            "000111.mp3.wav\t000339.mp3.wav\t000567.mp3.wav\t000795.mp3.wav\t001023.mp3.wav\n",
            "000112.mp3.wav\t000340.mp3.wav\t000568.mp3.wav\t000796.mp3.wav\t001024.mp3.wav\n",
            "000113.mp3.wav\t000341.mp3.wav\t000569.mp3.wav\t000797.mp3.wav\t001025.mp3.wav\n",
            "000114.mp3.wav\t000342.mp3.wav\t000570.mp3.wav\t000798.mp3.wav\t001026.mp3.wav\n",
            "000115.mp3.wav\t000343.mp3.wav\t000571.mp3.wav\t000799.mp3.wav\t001027.mp3.wav\n",
            "000116.mp3.wav\t000344.mp3.wav\t000572.mp3.wav\t000800.mp3.wav\t001028.mp3.wav\n",
            "000117.mp3.wav\t000345.mp3.wav\t000573.mp3.wav\t000801.mp3.wav\t001029.mp3.wav\n",
            "000118.mp3.wav\t000346.mp3.wav\t000574.mp3.wav\t000802.mp3.wav\t001030.mp3.wav\n",
            "000119.mp3.wav\t000347.mp3.wav\t000575.mp3.wav\t000803.mp3.wav\t001031.mp3.wav\n",
            "000120.mp3.wav\t000348.mp3.wav\t000576.mp3.wav\t000804.mp3.wav\t001032.mp3.wav\n",
            "000121.mp3.wav\t000349.mp3.wav\t000577.mp3.wav\t000805.mp3.wav\t001033.mp3.wav\n",
            "000122.mp3.wav\t000350.mp3.wav\t000578.mp3.wav\t000806.mp3.wav\t001034.mp3.wav\n",
            "000123.mp3.wav\t000351.mp3.wav\t000579.mp3.wav\t000807.mp3.wav\t001035.mp3.wav\n",
            "000124.mp3.wav\t000352.mp3.wav\t000580.mp3.wav\t000808.mp3.wav\t001036.mp3.wav\n",
            "000125.mp3.wav\t000353.mp3.wav\t000581.mp3.wav\t000809.mp3.wav\t001037.mp3.wav\n",
            "000126.mp3.wav\t000354.mp3.wav\t000582.mp3.wav\t000810.mp3.wav\t001038.mp3.wav\n",
            "000127.mp3.wav\t000355.mp3.wav\t000583.mp3.wav\t000811.mp3.wav\t001039.mp3.wav\n",
            "000128.mp3.wav\t000356.mp3.wav\t000584.mp3.wav\t000812.mp3.wav\t001040.mp3.wav\n",
            "000129.mp3.wav\t000357.mp3.wav\t000585.mp3.wav\t000813.mp3.wav\t001041.mp3.wav\n",
            "000130.mp3.wav\t000358.mp3.wav\t000586.mp3.wav\t000814.mp3.wav\t001042.mp3.wav\n",
            "000131.mp3.wav\t000359.mp3.wav\t000587.mp3.wav\t000815.mp3.wav\t001043.mp3.wav\n",
            "000132.mp3.wav\t000360.mp3.wav\t000588.mp3.wav\t000816.mp3.wav\t001044.mp3.wav\n",
            "000133.mp3.wav\t000361.mp3.wav\t000589.mp3.wav\t000817.mp3.wav\t001045.mp3.wav\n",
            "000134.mp3.wav\t000362.mp3.wav\t000590.mp3.wav\t000818.mp3.wav\t001046.mp3.wav\n",
            "000135.mp3.wav\t000363.mp3.wav\t000591.mp3.wav\t000819.mp3.wav\t001047.mp3.wav\n",
            "000136.mp3.wav\t000364.mp3.wav\t000592.mp3.wav\t000820.mp3.wav\t001048.mp3.wav\n",
            "000137.mp3.wav\t000365.mp3.wav\t000593.mp3.wav\t000821.mp3.wav\t001049.mp3.wav\n",
            "000138.mp3.wav\t000366.mp3.wav\t000594.mp3.wav\t000822.mp3.wav\t001050.mp3.wav\n",
            "000139.mp3.wav\t000367.mp3.wav\t000595.mp3.wav\t000823.mp3.wav\t001051.mp3.wav\n",
            "000140.mp3.wav\t000368.mp3.wav\t000596.mp3.wav\t000824.mp3.wav\t001052.mp3.wav\n",
            "000141.mp3.wav\t000369.mp3.wav\t000597.mp3.wav\t000825.mp3.wav\t001053.mp3.wav\n",
            "000142.mp3.wav\t000370.mp3.wav\t000598.mp3.wav\t000826.mp3.wav\t001054.mp3.wav\n",
            "000143.mp3.wav\t000371.mp3.wav\t000599.mp3.wav\t000827.mp3.wav\t001055.mp3.wav\n",
            "000144.mp3.wav\t000372.mp3.wav\t000600.mp3.wav\t000828.mp3.wav\t001056.mp3.wav\n",
            "000145.mp3.wav\t000373.mp3.wav\t000601.mp3.wav\t000829.mp3.wav\t001057.mp3.wav\n",
            "000146.mp3.wav\t000374.mp3.wav\t000602.mp3.wav\t000830.mp3.wav\t001058.mp3.wav\n",
            "000147.mp3.wav\t000375.mp3.wav\t000603.mp3.wav\t000831.mp3.wav\t001059.mp3.wav\n",
            "000148.mp3.wav\t000376.mp3.wav\t000604.mp3.wav\t000832.mp3.wav\t001060.mp3.wav\n",
            "000149.mp3.wav\t000377.mp3.wav\t000605.mp3.wav\t000833.mp3.wav\t001061.mp3.wav\n",
            "000150.mp3.wav\t000378.mp3.wav\t000606.mp3.wav\t000834.mp3.wav\t001062.mp3.wav\n",
            "000151.mp3.wav\t000379.mp3.wav\t000607.mp3.wav\t000835.mp3.wav\t001063.mp3.wav\n",
            "000152.mp3.wav\t000380.mp3.wav\t000608.mp3.wav\t000836.mp3.wav\t001064.mp3.wav\n",
            "000153.mp3.wav\t000381.mp3.wav\t000609.mp3.wav\t000837.mp3.wav\t001065.mp3.wav\n",
            "000154.mp3.wav\t000382.mp3.wav\t000610.mp3.wav\t000838.mp3.wav\t001066.mp3.wav\n",
            "000155.mp3.wav\t000383.mp3.wav\t000611.mp3.wav\t000839.mp3.wav\t001067.mp3.wav\n",
            "000156.mp3.wav\t000384.mp3.wav\t000612.mp3.wav\t000840.mp3.wav\t001068.mp3.wav\n",
            "000157.mp3.wav\t000385.mp3.wav\t000613.mp3.wav\t000841.mp3.wav\t001069.mp3.wav\n",
            "000158.mp3.wav\t000386.mp3.wav\t000614.mp3.wav\t000842.mp3.wav\t001070.mp3.wav\n",
            "000159.mp3.wav\t000387.mp3.wav\t000615.mp3.wav\t000843.mp3.wav\t001071.mp3.wav\n",
            "000160.mp3.wav\t000388.mp3.wav\t000616.mp3.wav\t000844.mp3.wav\t001072.mp3.wav\n",
            "000161.mp3.wav\t000389.mp3.wav\t000617.mp3.wav\t000845.mp3.wav\t001073.mp3.wav\n",
            "000162.mp3.wav\t000390.mp3.wav\t000618.mp3.wav\t000846.mp3.wav\t001074.mp3.wav\n",
            "000163.mp3.wav\t000391.mp3.wav\t000619.mp3.wav\t000847.mp3.wav\t001075.mp3.wav\n",
            "000164.mp3.wav\t000392.mp3.wav\t000620.mp3.wav\t000848.mp3.wav\t001076.mp3.wav\n",
            "000165.mp3.wav\t000393.mp3.wav\t000621.mp3.wav\t000849.mp3.wav\t001077.mp3.wav\n",
            "000166.mp3.wav\t000394.mp3.wav\t000622.mp3.wav\t000850.mp3.wav\t001078.mp3.wav\n",
            "000167.mp3.wav\t000395.mp3.wav\t000623.mp3.wav\t000851.mp3.wav\t001079.mp3.wav\n",
            "000168.mp3.wav\t000396.mp3.wav\t000624.mp3.wav\t000852.mp3.wav\t001080.mp3.wav\n",
            "000169.mp3.wav\t000397.mp3.wav\t000625.mp3.wav\t000853.mp3.wav\t001081.mp3.wav\n",
            "000170.mp3.wav\t000398.mp3.wav\t000626.mp3.wav\t000854.mp3.wav\t001082.mp3.wav\n",
            "000171.mp3.wav\t000399.mp3.wav\t000627.mp3.wav\t000855.mp3.wav\t001083.mp3.wav\n",
            "000172.mp3.wav\t000400.mp3.wav\t000628.mp3.wav\t000856.mp3.wav\t001084.mp3.wav\n",
            "000173.mp3.wav\t000401.mp3.wav\t000629.mp3.wav\t000857.mp3.wav\t001085.mp3.wav\n",
            "000174.mp3.wav\t000402.mp3.wav\t000630.mp3.wav\t000858.mp3.wav\t001086.mp3.wav\n",
            "000175.mp3.wav\t000403.mp3.wav\t000631.mp3.wav\t000859.mp3.wav\t001087.mp3.wav\n",
            "000176.mp3.wav\t000404.mp3.wav\t000632.mp3.wav\t000860.mp3.wav\t001088.mp3.wav\n",
            "000177.mp3.wav\t000405.mp3.wav\t000633.mp3.wav\t000861.mp3.wav\t001089.mp3.wav\n",
            "000178.mp3.wav\t000406.mp3.wav\t000634.mp3.wav\t000862.mp3.wav\t001090.mp3.wav\n",
            "000179.mp3.wav\t000407.mp3.wav\t000635.mp3.wav\t000863.mp3.wav\t001091.mp3.wav\n",
            "000180.mp3.wav\t000408.mp3.wav\t000636.mp3.wav\t000864.mp3.wav\t001092.mp3.wav\n",
            "000181.mp3.wav\t000409.mp3.wav\t000637.mp3.wav\t000865.mp3.wav\t001093.mp3.wav\n",
            "000182.mp3.wav\t000410.mp3.wav\t000638.mp3.wav\t000866.mp3.wav\t001094.mp3.wav\n",
            "000183.mp3.wav\t000411.mp3.wav\t000639.mp3.wav\t000867.mp3.wav\t001095.mp3.wav\n",
            "000184.mp3.wav\t000412.mp3.wav\t000640.mp3.wav\t000868.mp3.wav\t001096.mp3.wav\n",
            "000185.mp3.wav\t000413.mp3.wav\t000641.mp3.wav\t000869.mp3.wav\t001097.mp3.wav\n",
            "000186.mp3.wav\t000414.mp3.wav\t000642.mp3.wav\t000870.mp3.wav\t001098.mp3.wav\n",
            "000187.mp3.wav\t000415.mp3.wav\t000643.mp3.wav\t000871.mp3.wav\t001099.mp3.wav\n",
            "000188.mp3.wav\t000416.mp3.wav\t000644.mp3.wav\t000872.mp3.wav\t001100.mp3.wav\n",
            "000189.mp3.wav\t000417.mp3.wav\t000645.mp3.wav\t000873.mp3.wav\t001101.mp3.wav\n",
            "000190.mp3.wav\t000418.mp3.wav\t000646.mp3.wav\t000874.mp3.wav\t001102.mp3.wav\n",
            "000191.mp3.wav\t000419.mp3.wav\t000647.mp3.wav\t000875.mp3.wav\t001103.mp3.wav\n",
            "000192.mp3.wav\t000420.mp3.wav\t000648.mp3.wav\t000876.mp3.wav\t001104.mp3.wav\n",
            "000193.mp3.wav\t000421.mp3.wav\t000649.mp3.wav\t000877.mp3.wav\t001105.mp3.wav\n",
            "000194.mp3.wav\t000422.mp3.wav\t000650.mp3.wav\t000878.mp3.wav\t001106.mp3.wav\n",
            "000195.mp3.wav\t000423.mp3.wav\t000651.mp3.wav\t000879.mp3.wav\t001107.mp3.wav\n",
            "000196.mp3.wav\t000424.mp3.wav\t000652.mp3.wav\t000880.mp3.wav\t001108.mp3.wav\n",
            "000197.mp3.wav\t000425.mp3.wav\t000653.mp3.wav\t000881.mp3.wav\t001109.mp3.wav\n",
            "000198.mp3.wav\t000426.mp3.wav\t000654.mp3.wav\t000882.mp3.wav\t001110.mp3.wav\n",
            "000199.mp3.wav\t000427.mp3.wav\t000655.mp3.wav\t000883.mp3.wav\t001111.mp3.wav\n",
            "000200.mp3.wav\t000428.mp3.wav\t000656.mp3.wav\t000884.mp3.wav\t001112.mp3.wav\n",
            "000201.mp3.wav\t000429.mp3.wav\t000657.mp3.wav\t000885.mp3.wav\t001113.mp3.wav\n",
            "000202.mp3.wav\t000430.mp3.wav\t000658.mp3.wav\t000886.mp3.wav\t001114.mp3.wav\n",
            "000203.mp3.wav\t000431.mp3.wav\t000659.mp3.wav\t000887.mp3.wav\t001115.mp3.wav\n",
            "000204.mp3.wav\t000432.mp3.wav\t000660.mp3.wav\t000888.mp3.wav\t001116.mp3.wav\n",
            "000205.mp3.wav\t000433.mp3.wav\t000661.mp3.wav\t000889.mp3.wav\t001117.mp3.wav\n",
            "000206.mp3.wav\t000434.mp3.wav\t000662.mp3.wav\t000890.mp3.wav\t001118.mp3.wav\n",
            "000207.mp3.wav\t000435.mp3.wav\t000663.mp3.wav\t000891.mp3.wav\t001119.mp3.wav\n",
            "000208.mp3.wav\t000436.mp3.wav\t000664.mp3.wav\t000892.mp3.wav\t001120.mp3.wav\n",
            "000209.mp3.wav\t000437.mp3.wav\t000665.mp3.wav\t000893.mp3.wav\t001121.mp3.wav\n",
            "000210.mp3.wav\t000438.mp3.wav\t000666.mp3.wav\t000894.mp3.wav\t001122.mp3.wav\n",
            "000211.mp3.wav\t000439.mp3.wav\t000667.mp3.wav\t000895.mp3.wav\t001123.mp3.wav\n",
            "000212.mp3.wav\t000440.mp3.wav\t000668.mp3.wav\t000896.mp3.wav\t001124.mp3.wav\n",
            "000213.mp3.wav\t000441.mp3.wav\t000669.mp3.wav\t000897.mp3.wav\t001125.mp3.wav\n",
            "000214.mp3.wav\t000442.mp3.wav\t000670.mp3.wav\t000898.mp3.wav\t001126.mp3.wav\n",
            "000215.mp3.wav\t000443.mp3.wav\t000671.mp3.wav\t000899.mp3.wav\t001127.mp3.wav\n",
            "000216.mp3.wav\t000444.mp3.wav\t000672.mp3.wav\t000900.mp3.wav\t001128.mp3.wav\n",
            "000217.mp3.wav\t000445.mp3.wav\t000673.mp3.wav\t000901.mp3.wav\t001129.mp3.wav\n",
            "000218.mp3.wav\t000446.mp3.wav\t000674.mp3.wav\t000902.mp3.wav\t001130.mp3.wav\n",
            "000219.mp3.wav\t000447.mp3.wav\t000675.mp3.wav\t000903.mp3.wav\t001131.mp3.wav\n",
            "000220.mp3.wav\t000448.mp3.wav\t000676.mp3.wav\t000904.mp3.wav\t001132.mp3.wav\n",
            "000221.mp3.wav\t000449.mp3.wav\t000677.mp3.wav\t000905.mp3.wav\t001133.mp3.wav\n",
            "000222.mp3.wav\t000450.mp3.wav\t000678.mp3.wav\t000906.mp3.wav\t001134.mp3.wav\n",
            "000223.mp3.wav\t000451.mp3.wav\t000679.mp3.wav\t000907.mp3.wav\t001135.mp3.wav\n",
            "000224.mp3.wav\t000452.mp3.wav\t000680.mp3.wav\t000908.mp3.wav\t001136.mp3.wav\n",
            "000225.mp3.wav\t000453.mp3.wav\t000681.mp3.wav\t000909.mp3.wav\t001137.mp3.wav\n",
            "000226.mp3.wav\t000454.mp3.wav\t000682.mp3.wav\t000910.mp3.wav\n",
            "000227.mp3.wav\t000455.mp3.wav\t000683.mp3.wav\t000911.mp3.wav\n",
            "000228.mp3.wav\t000456.mp3.wav\t000684.mp3.wav\t000912.mp3.wav\n"
          ],
          "name": "stdout"
        }
      ]
    },
    {
      "metadata": {
        "id": "EFbMgqjh-VVH",
        "colab_type": "code",
        "outputId": "2b763bfa-78e8-4c1b-a3ae-170c70308e5c",
        "colab": {
          "base_uri": "https://localhost:8080/",
          "height": 495
        }
      },
      "cell_type": "code",
      "source": [
        "#@title 0-4\n",
        "%reset\n",
        "!pip install librosa\n",
        "\n",
        "import glob as glob\n",
        "import librosa\n",
        "from scipy.io import wavfile\n",
        "from scipy import interpolate\n",
        "import numpy as np\n",
        "\n",
        "\n",
        "def sing(old_audio,old_samplerate,NEW_SAMPLERATE):\n",
        "  if old_samplerate != NEW_SAMPLERATE:\n",
        "    duration = old_audio.shape[0] / old_samplerate\n",
        "\n",
        "    time_old  = np.linspace(0, duration, old_audio.shape[0])\n",
        "    time_new  = np.linspace(0, duration, int(old_audio.shape[0] * NEW_SAMPLERATE / old_samplerate))\n",
        "\n",
        "    interpolator = interpolate.interp1d(time_old, old_audio.T)\n",
        "    new_audio = interpolator(time_new).T\n",
        "    \n",
        "    return(new_audio)\n",
        "\n",
        "f=open('zipextract/Music/Dastgah/Label.txt','r')\n",
        "classes=f.readlines()\n",
        "for i in range(len(classes)):\n",
        "  classes[i]=classes[i].split()[0]\n",
        "  \n",
        "names=[]\n",
        "labs=[]\n",
        "sounds=[]\n",
        "c=0\n",
        "lt=0\n",
        "nt=''\n",
        "from IPython.display import clear_output\n",
        "for filename in sorted(glob.glob('zipextract/Data/Music/SoundSamples/*.wav')):\n",
        "  c+=1\n",
        "  if c%10==0:\n",
        "    clear_output()\n",
        "    print(c)\n",
        "  \n",
        "  str1=filename[35:41]\n",
        "  for i in range(len(classes)):\n",
        "    if i%2==0:\n",
        "      if str1==classes[i]:\n",
        "        lt=int(classes[i+1])\n",
        "        nt=str1\n",
        "        break\n",
        "  cl=0\n",
        "  for i in range(len(labs)):\n",
        "    if lt==labs[i]:\n",
        "      cl+=1\n",
        "  if cl<10000:\n",
        "    labs.append(lt)\n",
        "    names.append(nt)\n",
        "#     data,rate = librosa.load(filename, sr=8000)\n",
        "    \n",
        "    ns = 8192\n",
        "\n",
        "    s, a = wavfile.read(filename)\n",
        "\n",
        "    na=sing(a,s,ns)\n",
        "    \n",
        "    data=na\n",
        "    data=data[:,0]\n",
        "    llen=131072\n",
        "    if len(data)>llen:\n",
        "#       break\n",
        "      data=data[0:llen]\n",
        "      data=list( data[i] for i in range(0,len(data),1))\n",
        "    else:\n",
        "      result = np.zeros(llen)\n",
        "      result[:data.shape[0]] = data\n",
        "      data=result\n",
        "      data=list( data[i] for i in range(0,len(data),1))\n",
        "    sounds.append(data)\n",
        "    data=[]"
      ],
      "execution_count": 0,
      "outputs": [
        {
          "output_type": "stream",
          "text": [
            "370\n"
          ],
          "name": "stdout"
        },
        {
          "output_type": "error",
          "ename": "KeyboardInterrupt",
          "evalue": "ignored",
          "traceback": [
            "\u001b[0;31m---------------------------------------------------------------------------\u001b[0m",
            "\u001b[0;31mKeyboardInterrupt\u001b[0m                         Traceback (most recent call last)",
            "\u001b[0;32m<ipython-input-27-607914ae9466>\u001b[0m in \u001b[0;36m<module>\u001b[0;34m()\u001b[0m\n\u001b[1;32m     59\u001b[0m     \u001b[0ms\u001b[0m\u001b[0;34m,\u001b[0m \u001b[0ma\u001b[0m \u001b[0;34m=\u001b[0m \u001b[0mwavfile\u001b[0m\u001b[0;34m.\u001b[0m\u001b[0mread\u001b[0m\u001b[0;34m(\u001b[0m\u001b[0mfilename\u001b[0m\u001b[0;34m)\u001b[0m\u001b[0;34m\u001b[0m\u001b[0;34m\u001b[0m\u001b[0m\n\u001b[1;32m     60\u001b[0m \u001b[0;34m\u001b[0m\u001b[0m\n\u001b[0;32m---> 61\u001b[0;31m     \u001b[0mna\u001b[0m\u001b[0;34m=\u001b[0m\u001b[0msing\u001b[0m\u001b[0;34m(\u001b[0m\u001b[0ma\u001b[0m\u001b[0;34m,\u001b[0m\u001b[0ms\u001b[0m\u001b[0;34m,\u001b[0m\u001b[0mns\u001b[0m\u001b[0;34m)\u001b[0m\u001b[0;34m\u001b[0m\u001b[0;34m\u001b[0m\u001b[0m\n\u001b[0m\u001b[1;32m     62\u001b[0m \u001b[0;34m\u001b[0m\u001b[0m\n\u001b[1;32m     63\u001b[0m     \u001b[0mdata\u001b[0m\u001b[0;34m=\u001b[0m\u001b[0mna\u001b[0m\u001b[0;34m\u001b[0m\u001b[0;34m\u001b[0m\u001b[0m\n",
            "\u001b[0;32m<ipython-input-27-607914ae9466>\u001b[0m in \u001b[0;36msing\u001b[0;34m(old_audio, old_samplerate, NEW_SAMPLERATE)\u001b[0m\n\u001b[1;32m     14\u001b[0m \u001b[0;34m\u001b[0m\u001b[0m\n\u001b[1;32m     15\u001b[0m     \u001b[0mtime_old\u001b[0m  \u001b[0;34m=\u001b[0m \u001b[0mnp\u001b[0m\u001b[0;34m.\u001b[0m\u001b[0mlinspace\u001b[0m\u001b[0;34m(\u001b[0m\u001b[0;36m0\u001b[0m\u001b[0;34m,\u001b[0m \u001b[0mduration\u001b[0m\u001b[0;34m,\u001b[0m \u001b[0mold_audio\u001b[0m\u001b[0;34m.\u001b[0m\u001b[0mshape\u001b[0m\u001b[0;34m[\u001b[0m\u001b[0;36m0\u001b[0m\u001b[0;34m]\u001b[0m\u001b[0;34m)\u001b[0m\u001b[0;34m\u001b[0m\u001b[0;34m\u001b[0m\u001b[0m\n\u001b[0;32m---> 16\u001b[0;31m     \u001b[0mtime_new\u001b[0m  \u001b[0;34m=\u001b[0m \u001b[0mnp\u001b[0m\u001b[0;34m.\u001b[0m\u001b[0mlinspace\u001b[0m\u001b[0;34m(\u001b[0m\u001b[0;36m0\u001b[0m\u001b[0;34m,\u001b[0m \u001b[0mduration\u001b[0m\u001b[0;34m,\u001b[0m \u001b[0mint\u001b[0m\u001b[0;34m(\u001b[0m\u001b[0mold_audio\u001b[0m\u001b[0;34m.\u001b[0m\u001b[0mshape\u001b[0m\u001b[0;34m[\u001b[0m\u001b[0;36m0\u001b[0m\u001b[0;34m]\u001b[0m \u001b[0;34m*\u001b[0m \u001b[0mNEW_SAMPLERATE\u001b[0m \u001b[0;34m/\u001b[0m \u001b[0mold_samplerate\u001b[0m\u001b[0;34m)\u001b[0m\u001b[0;34m)\u001b[0m\u001b[0;34m\u001b[0m\u001b[0;34m\u001b[0m\u001b[0m\n\u001b[0m\u001b[1;32m     17\u001b[0m \u001b[0;34m\u001b[0m\u001b[0m\n\u001b[1;32m     18\u001b[0m     \u001b[0minterpolator\u001b[0m \u001b[0;34m=\u001b[0m \u001b[0minterpolate\u001b[0m\u001b[0;34m.\u001b[0m\u001b[0minterp1d\u001b[0m\u001b[0;34m(\u001b[0m\u001b[0mtime_old\u001b[0m\u001b[0;34m,\u001b[0m \u001b[0mold_audio\u001b[0m\u001b[0;34m.\u001b[0m\u001b[0mT\u001b[0m\u001b[0;34m)\u001b[0m\u001b[0;34m\u001b[0m\u001b[0;34m\u001b[0m\u001b[0m\n",
            "\u001b[0;32m/usr/local/lib/python3.6/dist-packages/numpy/core/function_base.py\u001b[0m in \u001b[0;36mlinspace\u001b[0;34m(start, stop, num, endpoint, retstep, dtype)\u001b[0m\n\u001b[1;32m    113\u001b[0m         \u001b[0mdtype\u001b[0m \u001b[0;34m=\u001b[0m \u001b[0mdt\u001b[0m\u001b[0;34m\u001b[0m\u001b[0;34m\u001b[0m\u001b[0m\n\u001b[1;32m    114\u001b[0m \u001b[0;34m\u001b[0m\u001b[0m\n\u001b[0;32m--> 115\u001b[0;31m     \u001b[0my\u001b[0m \u001b[0;34m=\u001b[0m \u001b[0m_nx\u001b[0m\u001b[0;34m.\u001b[0m\u001b[0marange\u001b[0m\u001b[0;34m(\u001b[0m\u001b[0;36m0\u001b[0m\u001b[0;34m,\u001b[0m \u001b[0mnum\u001b[0m\u001b[0;34m,\u001b[0m \u001b[0mdtype\u001b[0m\u001b[0;34m=\u001b[0m\u001b[0mdt\u001b[0m\u001b[0;34m)\u001b[0m\u001b[0;34m\u001b[0m\u001b[0;34m\u001b[0m\u001b[0m\n\u001b[0m\u001b[1;32m    116\u001b[0m \u001b[0;34m\u001b[0m\u001b[0m\n\u001b[1;32m    117\u001b[0m     \u001b[0mdelta\u001b[0m \u001b[0;34m=\u001b[0m \u001b[0mstop\u001b[0m \u001b[0;34m-\u001b[0m \u001b[0mstart\u001b[0m\u001b[0;34m\u001b[0m\u001b[0;34m\u001b[0m\u001b[0m\n",
            "\u001b[0;31mKeyboardInterrupt\u001b[0m: "
          ]
        }
      ]
    },
    {
      "metadata": {
        "id": "J3H_6-M9_P2p",
        "colab_type": "code",
        "outputId": "9e1fc703-ed41-48f0-aa5d-cf3c9445b7af",
        "colab": {
          "base_uri": "https://localhost:8080/",
          "height": 139
        }
      },
      "cell_type": "code",
      "source": [
        "for i in range(7):\n",
        "  cl=0\n",
        "  for j in range(len(labs)):\n",
        "    if labs[j]==i:\n",
        "      cl+=1\n",
        "      \n",
        "  print(cl)"
      ],
      "execution_count": 0,
      "outputs": [
        {
          "output_type": "stream",
          "text": [
            "445\n",
            "173\n",
            "150\n",
            "74\n",
            "106\n",
            "94\n",
            "95\n"
          ],
          "name": "stdout"
        }
      ]
    },
    {
      "metadata": {
        "id": "-ER8if9CACKQ",
        "colab_type": "code",
        "colab": {}
      },
      "cell_type": "code",
      "source": [
        "#@title 0-5\n",
        "sounds1=[]\n",
        "labs1=[]\n",
        "names1=[]\n",
        "for j in range(7):\n",
        "  for i in range(len(sounds)):\n",
        "    if labs[i]==j and len(labs1)<((j+1)*74):\n",
        "      sounds1.append(sounds[i])\n",
        "      labs1.append(labs[i])\n",
        "      names1.append(names[i])\n",
        "      \n",
        "print(len(labs1))"
      ],
      "execution_count": 0,
      "outputs": []
    },
    {
      "metadata": {
        "id": "PO-Bu1P5APkX",
        "colab_type": "code",
        "outputId": "d81be9f4-f845-4994-9f49-852518e37f2a",
        "colab": {
          "base_uri": "https://localhost:8080/",
          "height": 139
        }
      },
      "cell_type": "code",
      "source": [
        "c=0\n",
        "for j in range(7):\n",
        "  c=0\n",
        "  for i in range(len(labs1)):\n",
        "    if (labs1[i]==j):\n",
        "      c+=1\n",
        "    \n",
        "  print(c)"
      ],
      "execution_count": 0,
      "outputs": [
        {
          "output_type": "stream",
          "text": [
            "74\n",
            "74\n",
            "74\n",
            "74\n",
            "74\n",
            "74\n",
            "74\n"
          ],
          "name": "stdout"
        }
      ]
    },
    {
      "metadata": {
        "id": "sdC5uDUk_h2G",
        "colab_type": "code",
        "outputId": "f194b180-58c7-44ee-b817-20d153a14c4e",
        "colab": {
          "base_uri": "https://localhost:8080/",
          "height": 35
        }
      },
      "cell_type": "code",
      "source": [
        "#@title 0-6\n",
        "import numpy as np\n",
        "sounds1=np.array(sounds1)\n",
        "labs1=np.array(labs1)\n",
        "names1=np.array(names1)\n",
        "sounds1.shape"
      ],
      "execution_count": 0,
      "outputs": [
        {
          "output_type": "execute_result",
          "data": {
            "text/plain": [
              "(518, 131072)"
            ]
          },
          "metadata": {
            "tags": []
          },
          "execution_count": 29
        }
      ]
    },
    {
      "metadata": {
        "id": "wsTdOE8g_jwP",
        "colab_type": "code",
        "outputId": "6e881b85-920c-4b2c-958f-7558fdc3c46e",
        "cellView": "both",
        "colab": {
          "base_uri": "https://localhost:8080/",
          "height": 204
        }
      },
      "cell_type": "code",
      "source": [
        "#@title 1-connect to my drive\n",
        "from google.colab import drive\n",
        "drive.mount('/content/drive')\n",
        "!ls 'drive/My Drive'"
      ],
      "execution_count": 0,
      "outputs": [
        {
          "output_type": "stream",
          "text": [
            "Drive already mounted at /content/drive; to attempt to forcibly remount, call drive.mount(\"/content/drive\", force_remount=True).\n",
            " 3.wav\t\t\t  plot.jpg\n",
            "'Colab Notebooks'\t  s12.jpg\n",
            " Elaheh\t\t\t  s25s200.gif\n",
            " Elham2-DNAMutation.mp3   s27.gif\n",
            " filter\t\t\t  seven.png\n",
            " ITM74.plk\t\t  social.mp3\n",
            " ITMn.plk\t\t  TMSvO.jpg\n",
            " ITM.plk\t\t  VeryPrivate\n",
            " ITMv.plk\t\t 'تحریم شکن — Converted from Classic Sites.gsite'\n",
            " Other\n"
          ],
          "name": "stdout"
        }
      ]
    },
    {
      "metadata": {
        "id": "OhBNerEBASv5",
        "colab_type": "code",
        "cellView": "both",
        "colab": {}
      },
      "cell_type": "code",
      "source": [
        "#@title 0-8-!!!!!! dont run\n",
        "import pickle as plk\n",
        "with open('drive/My Drive/ITM74.plk', 'wb') as fn:\n",
        "  plk.dump((sounds1,labs1,names1),fn)"
      ],
      "execution_count": 0,
      "outputs": []
    },
    {
      "metadata": {
        "id": "ocVBk2WdJmh1",
        "colab_type": "code",
        "outputId": "bc2fca32-ecef-48f8-ded8-490b8909b1e9",
        "colab": {
          "base_uri": "https://localhost:8080/",
          "height": 51
        }
      },
      "cell_type": "code",
      "source": [
        "#@title 1\n",
        "%reset\n",
        "import pickle as plk\n",
        "sounds3,labs3,names3 = plk.load( open( \"drive/My Drive/ITM.plk\", \"rb\" ) )\n",
        " \n",
        "sounds3.shape "
      ],
      "execution_count": 0,
      "outputs": [
        {
          "output_type": "stream",
          "text": [
            "Once deleted, variables cannot be recovered. Proceed (y/[n])? y\n"
          ],
          "name": "stdout"
        },
        {
          "output_type": "execute_result",
          "data": {
            "text/plain": [
              "(1137, 200000)"
            ]
          },
          "metadata": {
            "tags": []
          },
          "execution_count": 2
        }
      ]
    },
    {
      "metadata": {
        "id": "76-fvBicJq7g",
        "colab_type": "code",
        "outputId": "a70c4095-92ce-4783-92bc-93e07dfc456e",
        "colab": {
          "base_uri": "https://localhost:8080/",
          "height": 51
        }
      },
      "cell_type": "code",
      "source": [
        "#@title 2\n",
        "import numpy as np\n",
        "sounds3=np.array(sounds3)\n",
        "labs3=np.array(labs3)\n",
        "names3=np.array(names3)\n",
        "# sounds2=np.array(sounds2)\n",
        "# labs2=np.array(labs2)\n",
        "# names2=np.array(names2)\n",
        "# sounds=np.concatenate((sounds3, sounds2))\n",
        "# labs=np.concatenate((labs3, labs2))\n",
        "# names=np.concatenate((names3, names2))\n",
        "sounds=sounds3\n",
        "labs=labs3\n",
        "names=names3\n",
        "print(sounds.shape)\n",
        "print(labs.shape)"
      ],
      "execution_count": 0,
      "outputs": [
        {
          "output_type": "stream",
          "text": [
            "(1137, 200000)\n",
            "(1137,)\n"
          ],
          "name": "stdout"
        }
      ]
    },
    {
      "metadata": {
        "id": "sF2MlvIWJtH9",
        "colab_type": "code",
        "outputId": "db794920-a259-40a8-8a06-db7caafd4183",
        "colab": {
          "base_uri": "https://localhost:8080/",
          "height": 71
        }
      },
      "cell_type": "code",
      "source": [
        "#@title 3\n",
        "!pip install librosa\n",
        "import librosa\n",
        "import librosa.core as lc\n",
        "import librosa.display\n",
        "import matplotlib.image as mpimg\n",
        "import matplotlib.pyplot as plt\n",
        "from IPython.display import clear_output\n",
        "clear_output()\n",
        "sts=[]\n",
        "c=0\n",
        "for i in range(len(sounds)):\n",
        "  n_f=510\n",
        "  hl=514\n",
        "# st = lc.stft(sounds[0],n_fft=n_f,hop_length=hl)\n",
        "# st = lc.stft(sounds[0])\n",
        "  y=sounds[i]\n",
        "  n = len(y)\n",
        "  n_fft = n_f\n",
        "#   y_pad = librosa.util.fix_length(y, n + n_fft // 2)\n",
        "  D = librosa.stft(y, n_fft=n_fft, hop_length=hl)\n",
        "#   y_out = librosa.istft(D, length=n, hop_length=hl)\n",
        "  D1=librosa.amplitude_to_db(D, ref=np.max)+80\n",
        "  sts.append(D1)\n",
        "\n",
        "\n",
        "# axs.ravel()\n",
        "D=D.astype(int)\n",
        "librosa.display.specshow(librosa.amplitude_to_db(D,\n",
        "                          ref=np.max),\n",
        "                          y_axis='linear', x_axis='time')\n",
        "plt.title('Power spectrogram')\n",
        "plt.colorbar(format='%+2.0f dB')\n",
        "plt.tight_layout()\n",
        "#   plt.axis(\"off\")\n",
        "#   plt.savefig('plot.jpg',bbox_inches='tight', pad_inches=0)\n",
        "#   img=mpimg.imread('plot.jpg')\n",
        "#   plt.axis(\"off\")\n",
        "#   img.setflags(write=1)\n",
        "#   x=img\n",
        "#   x[297:len(img),:,:]=0\n",
        "#   x[:,0:50,:]=0\n",
        "#   x=x[0:298,50:len(img[0]),:]\n",
        "#   sts.append(x)\n",
        "#   clear_output()\n",
        "#   c+=1\n",
        "#   if c%5==0:\n",
        "#     print(c)"
      ],
      "execution_count": 0,
      "outputs": [
        {
          "output_type": "stream",
          "text": [
            "/usr/local/lib/python3.6/dist-packages/librosa/core/spectrum.py:960: UserWarning: amplitude_to_db was called on complex input so phase information will be discarded. To suppress this warning, call amplitude_to_db(np.abs(S)) instead.\n",
            "  warnings.warn('amplitude_to_db was called on complex input so phase '\n"
          ],
          "name": "stderr"
        }
      ]
    },
    {
      "metadata": {
        "id": "GHkum8xrXee0",
        "colab_type": "code",
        "colab": {}
      },
      "cell_type": "code",
      "source": [
        "lbas=[]\n",
        "for i in range(len(labs)):\n",
        "  lbas.append(labs[i])\n",
        "  \n",
        "labs=np.array(lbas)"
      ],
      "execution_count": 0,
      "outputs": []
    },
    {
      "metadata": {
        "id": "i9eOle-VJz2M",
        "colab_type": "code",
        "outputId": "414787ba-2bc3-400c-f86f-69f2cebafe5a",
        "colab": {
          "base_uri": "https://localhost:8080/",
          "height": 35
        }
      },
      "cell_type": "code",
      "source": [
        "#@title 4\n",
        "import numpy as np\n",
        "sts=np.array(sts)\n",
        "sts=sts.astype('float32')\n",
        "print(sts.shape)"
      ],
      "execution_count": 0,
      "outputs": [
        {
          "output_type": "stream",
          "text": [
            "(518, 256, 256)\n"
          ],
          "name": "stdout"
        }
      ]
    },
    {
      "metadata": {
        "id": "inI-obKASwJi",
        "colab_type": "code",
        "outputId": "3168b233-d91e-40ae-b86a-211decc28419",
        "colab": {
          "base_uri": "https://localhost:8080/",
          "height": 52
        }
      },
      "cell_type": "code",
      "source": [
        "print(np.min(sts))\n",
        "print(np.max(sts))"
      ],
      "execution_count": 0,
      "outputs": [
        {
          "output_type": "stream",
          "text": [
            "-1.5258789e-05\n",
            "80.00001\n"
          ],
          "name": "stdout"
        }
      ]
    },
    {
      "metadata": {
        "id": "1jSPmlSCYaAt",
        "colab_type": "code",
        "colab": {}
      },
      "cell_type": "code",
      "source": [
        "#@title 5\n",
        "xtr=sts[0:400]\n",
        "xte=sts[400:518]\n",
        "ytr=labs[0:400]\n",
        "yte=labs[400:518]\n",
        "# for i in range(0,len(sts)-5,5):\n",
        "#   xtr.append(sts[i])\n",
        "#   xtr.append(sts[i+1])\n",
        "#   xtr.append(sts[i+2])\n",
        "#   xtr.append(sts[i+3])\n",
        "#   xte.append(sts[i+4])\n",
        "#   ytr.append(labs[i])\n",
        "#   ytr.append(labs[i+1])\n",
        "#   ytr.append(labs[i+2])\n",
        "#   ytr.append(labs[i+3])\n",
        "#   yte.append(labs[i+4])\n",
        "  \n",
        "xtr=np.array(xtr)\n",
        "ytr=np.array(ytr)\n",
        "xte=np.array(xte)\n",
        "yte=np.array(yte)"
      ],
      "execution_count": 0,
      "outputs": []
    },
    {
      "metadata": {
        "id": "wnqcR_oOJ8Wt",
        "colab_type": "code",
        "outputId": "4dcf698e-b759-4880-e0d4-5a595326e84f",
        "colab": {
          "base_uri": "https://localhost:8080/",
          "height": 1226
        }
      },
      "cell_type": "code",
      "source": [
        "#@title Beloved Deep Learning\n",
        "from __future__ import print_function\n",
        "import keras\n",
        "from keras.datasets import mnist\n",
        "from keras.layers import Dense, Flatten, BatchNormalization,Reshape\n",
        "from keras.layers import Conv2D, MaxPooling2D, LeakyReLU, Dropout, CuDNNGRU\n",
        "from keras.models import Sequential\n",
        "import matplotlib.pylab as plt\n",
        "\n",
        "batch_size = 32\n",
        "num_classes = 7\n",
        "epochs = 20\n",
        "\n",
        "# input image dimensions\n",
        "img_x, img_y = 256, 256\n",
        "\n",
        "x_train=xtr\n",
        "y_train=ytr\n",
        "x_test=xte\n",
        "y_test=yte\n",
        "# x_train /= 1\n",
        "# reshape the data into a 4D tensor - (sample_number, x_img_size, y_img_size, num_channels)\n",
        "# because the MNIST is greyscale, we only have a single channel - RGB colour images would have 3\n",
        "x_train = x_train.reshape(x_train.shape[0], img_x, img_y, 1)\n",
        "x_test = x_test.reshape(x_test.shape[0], img_x, img_y, 1)\n",
        "# x_test = x_test.reshape(x_test.shape[0], img_x, img_y, 1)\n",
        "input_shape = (img_x, img_y, 1)\n",
        "\n",
        "# convert the data to the right type\n",
        "y_train = keras.utils.to_categorical(y_train, num_classes)\n",
        "y_test = keras.utils.to_categorical(y_test, num_classes)\n",
        "# y_test = keras.utils.to_categorical(y_test, num_classes)\n",
        "\n",
        "lre=0.1\n",
        "dr1=0.05\n",
        "dr2=0.1\n",
        "dr3=0.15\n",
        "dr4=0.25\n",
        "model = Sequential()\n",
        "model.add(Conv2D(16, kernel_size=(3, 3), strides=(1, 1), input_shape=input_shape, padding='same'))\n",
        "model.add(LeakyReLU(alpha=lre))\n",
        "model.add(Dropout(dr1))\n",
        "model.add(BatchNormalization(momentum=0.8))\n",
        "model.add(MaxPooling2D(pool_size=(2, 2)))\n",
        "model.add(Conv2D(32, (3, 3),padding='same'))\n",
        "model.add(LeakyReLU(alpha=lre))\n",
        "model.add(Dropout(dr2))\n",
        "model.add(BatchNormalization(momentum=0.8))\n",
        "model.add(MaxPooling2D(pool_size=(2, 2)))\n",
        "model.add(Conv2D(32, (3, 3), padding='same'))\n",
        "model.add(LeakyReLU(alpha=lre))\n",
        "model.add(Dropout(dr3))\n",
        "model.add(BatchNormalization(momentum=0.8))\n",
        "model.add(MaxPooling2D(pool_size=(2, 2)))\n",
        "model.add(Conv2D(32, (3, 3), padding='same'))\n",
        "model.add(LeakyReLU(alpha=lre))\n",
        "model.add(Dropout(dr4))\n",
        "model.add(BatchNormalization(momentum=0.8))\n",
        "model.add(MaxPooling2D(pool_size=(2, 2)))\n",
        "model.add(Conv2D(64, (3, 3), padding='same'))\n",
        "model.add(LeakyReLU(alpha=lre))\n",
        "model.add(BatchNormalization(momentum=0.8))\n",
        "model.add(MaxPooling2D(pool_size=(2, 2)))\n",
        "conv_to_gru=(64,64)\n",
        "model.add(Reshape(target_shape=conv_to_gru))\n",
        "model.add(CuDNNGRU(50, return_sequences=True))\n",
        "model.add(CuDNNGRU(100, return_sequences=False))\n",
        "# model.add(Flatten())\n",
        "model.add(Dense(5))\n",
        "model.add(LeakyReLU(alpha=0))\n",
        "model.add(Dense(num_classes, activation='softmax'))\n",
        "\n",
        "model.compile(loss=keras.losses.categorical_crossentropy,\n",
        "              optimizer=keras.optimizers.Adam(),\n",
        "              metrics=['accuracy'])\n",
        "\n",
        "model.fit(x_train, y_train,\n",
        "          batch_size=batch_size,\n",
        "          epochs=epochs,\n",
        "          verbose=1,\n",
        "          validation_data=(x_test, y_test))\n",
        "#           validation_data=(x_test, y_test))\n",
        "\n",
        "model.summary()"
      ],
      "execution_count": 0,
      "outputs": [
        {
          "output_type": "stream",
          "text": [
            "Train on 400 samples, validate on 118 samples\n",
            "Epoch 1/20\n",
            "400/400 [==============================] - 5s 12ms/step - loss: 1.8585 - acc: 0.1500 - val_loss: 2.2962 - val_acc: 0.0254\n",
            "Epoch 2/20\n",
            "400/400 [==============================] - 3s 7ms/step - loss: 1.8063 - acc: 0.2125 - val_loss: 2.9908 - val_acc: 0.0000e+00\n",
            "Epoch 3/20\n",
            "400/400 [==============================] - 3s 7ms/step - loss: 1.7661 - acc: 0.3075 - val_loss: 3.2054 - val_acc: 0.0000e+00\n",
            "Epoch 4/20\n",
            "400/400 [==============================] - 3s 7ms/step - loss: 1.7420 - acc: 0.2900 - val_loss: 3.5164 - val_acc: 0.0000e+00\n",
            "Epoch 5/20\n",
            "400/400 [==============================] - 3s 7ms/step - loss: 1.6865 - acc: 0.3475 - val_loss: 4.2257 - val_acc: 0.0000e+00\n",
            "Epoch 6/20\n",
            "400/400 [==============================] - 3s 7ms/step - loss: 1.6010 - acc: 0.3850 - val_loss: 4.7601 - val_acc: 0.0000e+00\n",
            "Epoch 7/20\n",
            "400/400 [==============================] - 3s 7ms/step - loss: 1.5648 - acc: 0.3875 - val_loss: 4.4820 - val_acc: 0.0000e+00\n",
            "Epoch 8/20\n",
            "400/400 [==============================] - 3s 7ms/step - loss: 1.4601 - acc: 0.4450 - val_loss: 5.0575 - val_acc: 0.0000e+00\n",
            "Epoch 9/20\n",
            "400/400 [==============================] - 3s 7ms/step - loss: 1.4058 - acc: 0.4175 - val_loss: 5.0521 - val_acc: 0.0000e+00\n",
            "Epoch 10/20\n",
            " 64/400 [===>..........................] - ETA: 2s - loss: 1.3378 - acc: 0.4688"
          ],
          "name": "stdout"
        },
        {
          "output_type": "error",
          "ename": "KeyboardInterrupt",
          "evalue": "ignored",
          "traceback": [
            "\u001b[0;31m---------------------------------------------------------------------------\u001b[0m",
            "\u001b[0;31mKeyboardInterrupt\u001b[0m                         Traceback (most recent call last)",
            "\u001b[0;32m<ipython-input-22-bd664982299f>\u001b[0m in \u001b[0;36m<module>\u001b[0;34m()\u001b[0m\n\u001b[1;32m     78\u001b[0m           \u001b[0mepochs\u001b[0m\u001b[0;34m=\u001b[0m\u001b[0mepochs\u001b[0m\u001b[0;34m,\u001b[0m\u001b[0;34m\u001b[0m\u001b[0;34m\u001b[0m\u001b[0m\n\u001b[1;32m     79\u001b[0m           \u001b[0mverbose\u001b[0m\u001b[0;34m=\u001b[0m\u001b[0;36m1\u001b[0m\u001b[0;34m,\u001b[0m\u001b[0;34m\u001b[0m\u001b[0;34m\u001b[0m\u001b[0m\n\u001b[0;32m---> 80\u001b[0;31m           validation_data=(x_test, y_test))\n\u001b[0m\u001b[1;32m     81\u001b[0m \u001b[0;31m#           validation_data=(x_test, y_test))\u001b[0m\u001b[0;34m\u001b[0m\u001b[0;34m\u001b[0m\u001b[0;34m\u001b[0m\u001b[0m\n\u001b[1;32m     82\u001b[0m \u001b[0;34m\u001b[0m\u001b[0m\n",
            "\u001b[0;32m/usr/local/lib/python3.6/dist-packages/keras/engine/training.py\u001b[0m in \u001b[0;36mfit\u001b[0;34m(self, x, y, batch_size, epochs, verbose, callbacks, validation_split, validation_data, shuffle, class_weight, sample_weight, initial_epoch, steps_per_epoch, validation_steps, **kwargs)\u001b[0m\n\u001b[1;32m   1037\u001b[0m                                         \u001b[0minitial_epoch\u001b[0m\u001b[0;34m=\u001b[0m\u001b[0minitial_epoch\u001b[0m\u001b[0;34m,\u001b[0m\u001b[0;34m\u001b[0m\u001b[0;34m\u001b[0m\u001b[0m\n\u001b[1;32m   1038\u001b[0m                                         \u001b[0msteps_per_epoch\u001b[0m\u001b[0;34m=\u001b[0m\u001b[0msteps_per_epoch\u001b[0m\u001b[0;34m,\u001b[0m\u001b[0;34m\u001b[0m\u001b[0;34m\u001b[0m\u001b[0m\n\u001b[0;32m-> 1039\u001b[0;31m                                         validation_steps=validation_steps)\n\u001b[0m\u001b[1;32m   1040\u001b[0m \u001b[0;34m\u001b[0m\u001b[0m\n\u001b[1;32m   1041\u001b[0m     def evaluate(self, x=None, y=None,\n",
            "\u001b[0;32m/usr/local/lib/python3.6/dist-packages/keras/engine/training_arrays.py\u001b[0m in \u001b[0;36mfit_loop\u001b[0;34m(model, f, ins, out_labels, batch_size, epochs, verbose, callbacks, val_f, val_ins, shuffle, callback_metrics, initial_epoch, steps_per_epoch, validation_steps)\u001b[0m\n\u001b[1;32m    197\u001b[0m                     \u001b[0mins_batch\u001b[0m\u001b[0;34m[\u001b[0m\u001b[0mi\u001b[0m\u001b[0;34m]\u001b[0m \u001b[0;34m=\u001b[0m \u001b[0mins_batch\u001b[0m\u001b[0;34m[\u001b[0m\u001b[0mi\u001b[0m\u001b[0;34m]\u001b[0m\u001b[0;34m.\u001b[0m\u001b[0mtoarray\u001b[0m\u001b[0;34m(\u001b[0m\u001b[0;34m)\u001b[0m\u001b[0;34m\u001b[0m\u001b[0;34m\u001b[0m\u001b[0m\n\u001b[1;32m    198\u001b[0m \u001b[0;34m\u001b[0m\u001b[0m\n\u001b[0;32m--> 199\u001b[0;31m                 \u001b[0mouts\u001b[0m \u001b[0;34m=\u001b[0m \u001b[0mf\u001b[0m\u001b[0;34m(\u001b[0m\u001b[0mins_batch\u001b[0m\u001b[0;34m)\u001b[0m\u001b[0;34m\u001b[0m\u001b[0;34m\u001b[0m\u001b[0m\n\u001b[0m\u001b[1;32m    200\u001b[0m                 \u001b[0mouts\u001b[0m \u001b[0;34m=\u001b[0m \u001b[0mto_list\u001b[0m\u001b[0;34m(\u001b[0m\u001b[0mouts\u001b[0m\u001b[0;34m)\u001b[0m\u001b[0;34m\u001b[0m\u001b[0;34m\u001b[0m\u001b[0m\n\u001b[1;32m    201\u001b[0m                 \u001b[0;32mfor\u001b[0m \u001b[0ml\u001b[0m\u001b[0;34m,\u001b[0m \u001b[0mo\u001b[0m \u001b[0;32min\u001b[0m \u001b[0mzip\u001b[0m\u001b[0;34m(\u001b[0m\u001b[0mout_labels\u001b[0m\u001b[0;34m,\u001b[0m \u001b[0mouts\u001b[0m\u001b[0;34m)\u001b[0m\u001b[0;34m:\u001b[0m\u001b[0;34m\u001b[0m\u001b[0;34m\u001b[0m\u001b[0m\n",
            "\u001b[0;32m/usr/local/lib/python3.6/dist-packages/keras/backend/tensorflow_backend.py\u001b[0m in \u001b[0;36m__call__\u001b[0;34m(self, inputs)\u001b[0m\n\u001b[1;32m   2713\u001b[0m                 \u001b[0;32mreturn\u001b[0m \u001b[0mself\u001b[0m\u001b[0;34m.\u001b[0m\u001b[0m_legacy_call\u001b[0m\u001b[0;34m(\u001b[0m\u001b[0minputs\u001b[0m\u001b[0;34m)\u001b[0m\u001b[0;34m\u001b[0m\u001b[0;34m\u001b[0m\u001b[0m\n\u001b[1;32m   2714\u001b[0m \u001b[0;34m\u001b[0m\u001b[0m\n\u001b[0;32m-> 2715\u001b[0;31m             \u001b[0;32mreturn\u001b[0m \u001b[0mself\u001b[0m\u001b[0;34m.\u001b[0m\u001b[0m_call\u001b[0m\u001b[0;34m(\u001b[0m\u001b[0minputs\u001b[0m\u001b[0;34m)\u001b[0m\u001b[0;34m\u001b[0m\u001b[0;34m\u001b[0m\u001b[0m\n\u001b[0m\u001b[1;32m   2716\u001b[0m         \u001b[0;32melse\u001b[0m\u001b[0;34m:\u001b[0m\u001b[0;34m\u001b[0m\u001b[0;34m\u001b[0m\u001b[0m\n\u001b[1;32m   2717\u001b[0m             \u001b[0;32mif\u001b[0m \u001b[0mpy_any\u001b[0m\u001b[0;34m(\u001b[0m\u001b[0mis_tensor\u001b[0m\u001b[0;34m(\u001b[0m\u001b[0mx\u001b[0m\u001b[0;34m)\u001b[0m \u001b[0;32mfor\u001b[0m \u001b[0mx\u001b[0m \u001b[0;32min\u001b[0m \u001b[0minputs\u001b[0m\u001b[0;34m)\u001b[0m\u001b[0;34m:\u001b[0m\u001b[0;34m\u001b[0m\u001b[0;34m\u001b[0m\u001b[0m\n",
            "\u001b[0;32m/usr/local/lib/python3.6/dist-packages/keras/backend/tensorflow_backend.py\u001b[0m in \u001b[0;36m_call\u001b[0;34m(self, inputs)\u001b[0m\n\u001b[1;32m   2673\u001b[0m             \u001b[0mfetched\u001b[0m \u001b[0;34m=\u001b[0m \u001b[0mself\u001b[0m\u001b[0;34m.\u001b[0m\u001b[0m_callable_fn\u001b[0m\u001b[0;34m(\u001b[0m\u001b[0;34m*\u001b[0m\u001b[0marray_vals\u001b[0m\u001b[0;34m,\u001b[0m \u001b[0mrun_metadata\u001b[0m\u001b[0;34m=\u001b[0m\u001b[0mself\u001b[0m\u001b[0;34m.\u001b[0m\u001b[0mrun_metadata\u001b[0m\u001b[0;34m)\u001b[0m\u001b[0;34m\u001b[0m\u001b[0;34m\u001b[0m\u001b[0m\n\u001b[1;32m   2674\u001b[0m         \u001b[0;32melse\u001b[0m\u001b[0;34m:\u001b[0m\u001b[0;34m\u001b[0m\u001b[0;34m\u001b[0m\u001b[0m\n\u001b[0;32m-> 2675\u001b[0;31m             \u001b[0mfetched\u001b[0m \u001b[0;34m=\u001b[0m \u001b[0mself\u001b[0m\u001b[0;34m.\u001b[0m\u001b[0m_callable_fn\u001b[0m\u001b[0;34m(\u001b[0m\u001b[0;34m*\u001b[0m\u001b[0marray_vals\u001b[0m\u001b[0;34m)\u001b[0m\u001b[0;34m\u001b[0m\u001b[0;34m\u001b[0m\u001b[0m\n\u001b[0m\u001b[1;32m   2676\u001b[0m         \u001b[0;32mreturn\u001b[0m \u001b[0mfetched\u001b[0m\u001b[0;34m[\u001b[0m\u001b[0;34m:\u001b[0m\u001b[0mlen\u001b[0m\u001b[0;34m(\u001b[0m\u001b[0mself\u001b[0m\u001b[0;34m.\u001b[0m\u001b[0moutputs\u001b[0m\u001b[0;34m)\u001b[0m\u001b[0;34m]\u001b[0m\u001b[0;34m\u001b[0m\u001b[0;34m\u001b[0m\u001b[0m\n\u001b[1;32m   2677\u001b[0m \u001b[0;34m\u001b[0m\u001b[0m\n",
            "\u001b[0;32m/usr/local/lib/python3.6/dist-packages/tensorflow/python/client/session.py\u001b[0m in \u001b[0;36m__call__\u001b[0;34m(self, *args, **kwargs)\u001b[0m\n\u001b[1;32m   1437\u001b[0m           ret = tf_session.TF_SessionRunCallable(\n\u001b[1;32m   1438\u001b[0m               \u001b[0mself\u001b[0m\u001b[0;34m.\u001b[0m\u001b[0m_session\u001b[0m\u001b[0;34m.\u001b[0m\u001b[0m_session\u001b[0m\u001b[0;34m,\u001b[0m \u001b[0mself\u001b[0m\u001b[0;34m.\u001b[0m\u001b[0m_handle\u001b[0m\u001b[0;34m,\u001b[0m \u001b[0margs\u001b[0m\u001b[0;34m,\u001b[0m \u001b[0mstatus\u001b[0m\u001b[0;34m,\u001b[0m\u001b[0;34m\u001b[0m\u001b[0;34m\u001b[0m\u001b[0m\n\u001b[0;32m-> 1439\u001b[0;31m               run_metadata_ptr)\n\u001b[0m\u001b[1;32m   1440\u001b[0m         \u001b[0;32mif\u001b[0m \u001b[0mrun_metadata\u001b[0m\u001b[0;34m:\u001b[0m\u001b[0;34m\u001b[0m\u001b[0;34m\u001b[0m\u001b[0m\n\u001b[1;32m   1441\u001b[0m           \u001b[0mproto_data\u001b[0m \u001b[0;34m=\u001b[0m \u001b[0mtf_session\u001b[0m\u001b[0;34m.\u001b[0m\u001b[0mTF_GetBuffer\u001b[0m\u001b[0;34m(\u001b[0m\u001b[0mrun_metadata_ptr\u001b[0m\u001b[0;34m)\u001b[0m\u001b[0;34m\u001b[0m\u001b[0;34m\u001b[0m\u001b[0m\n",
            "\u001b[0;31mKeyboardInterrupt\u001b[0m: "
          ]
        }
      ]
    },
    {
      "metadata": {
        "id": "jzQ9bphPJ9PV",
        "colab_type": "code",
        "outputId": "0b71325a-641e-48b4-afdd-b83bd65204e0",
        "colab": {
          "base_uri": "https://localhost:8080/",
          "height": 260
        }
      },
      "cell_type": "code",
      "source": [
        "from sklearn.metrics import classification_report,confusion_matrix\n",
        "import numpy as np\n",
        "\n",
        "y=y_test\n",
        "x=x_test\n",
        "\n",
        "y_true = np.argmax(y, axis=1)\n",
        "y_pred = model.predict_classes(x)\n",
        "print(classification_report(y_true, y_pred))"
      ],
      "execution_count": 0,
      "outputs": [
        {
          "output_type": "stream",
          "text": [
            "              precision    recall  f1-score   support\n",
            "\n",
            "           0       0.83      1.00      0.91        15\n",
            "           1       1.00      0.93      0.97        15\n",
            "           2       0.88      0.93      0.90        15\n",
            "           3       0.94      1.00      0.97        15\n",
            "           4       1.00      0.87      0.93        15\n",
            "           5       1.00      0.75      0.86        20\n",
            "           6       0.88      1.00      0.94        23\n",
            "\n",
            "   micro avg       0.92      0.92      0.92       118\n",
            "   macro avg       0.93      0.93      0.92       118\n",
            "weighted avg       0.93      0.92      0.92       118\n",
            "\n"
          ],
          "name": "stdout"
        }
      ]
    }
  ]
}